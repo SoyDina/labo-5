{
 "cells": [
  {
   "attachments": {
    "image-2.png": {
     "image/png": "[encoded data removed]"
    }
   },
   "cell_type": "markdown",
   "id": "4ab9cd23",
   "metadata": {},
   "source": [
    "Medimos la caida de potencial sobre el capacitor. Conectamos la resistencia y el capacitor en serie. La resistencia la conectamos al generador de funciones y el capacitor al osciloscopio. Hicimos un barrido en frecuencias espaciadas logaritmicamente desde 10 Hz hasta 1000 Hz y medimos el pico de potencial en el capacitor, y para esto nos aseguramos de que en cada una de las mediciones la escala vertical y horizontal sean inversamente proporcionales a las frecuencias, y lo hicimos de tal modo de asegurarnos que entren 5 (cinco) oscilaciones para cada una de las frecuencias elegidas. Esto lo hicimos para el voltaje máximo en cada uno de los puntos, y para la función range que estaba en la clase, esto lo hicimos para  comprobar que ambos resultados son identicos. \n",
    "\n",
    "![image-2.png](attachment:image-2.png)\n"
   ]
  },
  {
   "cell_type": "markdown",
   "id": "a1aa042f",
   "metadata": {},
   "source": [
    "Importamos los datos de las freciencias utilizadas y los datos de voltaje que medimos"
   ]
  },
  {
   "cell_type": "code",
   "execution_count": 1,
   "id": "529aae81",
   "metadata": {},
   "outputs": [],
   "source": [
    "import matplotlib.pyplot as plt\n",
    "import numpy as np\n",
    "from scipy.optimize import curve_fit\n",
    "\n",
    "%matplotlib widget\n",
    "\n",
    "frec = np.loadtxt(\"frecs.txt\", delimiter=\",\")\n",
    "datos_range = np.loadtxt(\"datos_range.txt\", delimiter=\",\")\n",
    "datos_max = np.loadtxt(\"datos_max.txt\", delimiter=\",\")"
   ]
  },
  {
   "cell_type": "markdown",
   "id": "8fa65f8d",
   "metadata": {},
   "source": [
    "graficamos y ajustamos los datos  por $T = \\frac{1}{\\sqrt{1+(\\omega / \\omega_0)^2}}$"
   ]
  },
  {
   "cell_type": "code",
   "execution_count": 3,
   "id": "bceed101",
   "metadata": {},
   "outputs": [
    {
     "data": {
      "application/vnd.jupyter.widget-view+json": {
       "model_id": "a9848e723a50497894d8466f6a163d86",
       "version_major": 2,
       "version_minor": 0
      },
      "text/plain": [
       "Canvas(toolbar=Toolbar(toolitems=[('Home', 'Reset original view', 'home', 'home'), ('Back', 'Back to previous …"
      ]
     },
     "metadata": {},
     "output_type": "display_data"
    },
    {
     "data": {
      "text/plain": [
       "(array([0.01241708]), array([[15.10680766]]))"
      ]
     },
     "execution_count": 3,
     "metadata": {},
     "output_type": "execute_result"
    }
   ],
   "source": [
    "def ajuste(x, wo):\n",
    "    x = 2*np.pi*x\n",
    "    return 1/np.sqrt(1+(x/wo)**2)\n",
    "\n",
    "popt, pcov =  curve_fit(ajuste, frec, datos_range, p0 = 175)\n",
    "x_varios = np.linspace(np.log10(10), 1000,1000)\n",
    "\n",
    "plt.figure()\n",
    "plt.plot(frec, datos_range, '-o',label = 'max')\n",
    "plt.plot(x_varios, ajuste(x_varios, popt), 'r-')\n",
    "plt.xlabel('Frecuencia [Hz]')\n",
    "plt.ylabel('Transferencia')\n",
    "plt.show()\n",
    "1/popt, pcov"
   ]
  },
  {
   "cell_type": "markdown",
   "id": "1cc31daf",
   "metadata": {},
   "source": [
    "Como parametro de ajuste obtuvimos que $\\omega_0 = 80.5$ y el tiempo caracteristico $\\tau = RC$ se obtiene como $RC = \\frac{1}{\\omega_0} = 0.0124$ ms"
   ]
  }
 ],
 "metadata": {
  "kernelspec": {
   "display_name": "Python 3",
   "language": "python",
   "name": "python3"
  },
  "language_info": {
   "codemirror_mode": {
    "name": "ipython",
    "version": 3
   },
   "file_extension": ".py",
   "mimetype": "text/x-python",
   "name": "python",
   "nbconvert_exporter": "python",
   "pygments_lexer": "ipython3",
   "version": "3.8.10"
  }
 },
 "nbformat": 4,
 "nbformat_minor": 5
}
